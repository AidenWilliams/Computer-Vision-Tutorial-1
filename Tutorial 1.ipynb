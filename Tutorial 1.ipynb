{
 "cells": [
  {
   "cell_type": "markdown",
   "metadata": {
    "pycharm": {
     "name": "#%% md\n"
    }
   },
   "source": [
    "# Point Processing (Tutorial 1)\n",
    "***\n",
    "# Table of Contents\n",
    "1.   [Imports](#Imports)\n",
    "2.   [Exercise 1](#Exercise-1)\n",
    "3.   [Exercise 2 - Thresholding](#Exercise-2---Thresholding)\n",
    "4.   [Exercise 3 - Histogram](#Exercise-3---Histogram)\n",
    "5.   [Exercise 4 - Power Transform](#Exercise-4---Power-Transform)\n",
    "6.   [Exercise 5 - Bit Plane Slicing](#Exercise-5---Bit-Plane-Slicing)\n",
    "7.   [Exercise 6 - Application to Video](#Exercise-6---Application-to-Video)"
   ]
  },
  {
   "cell_type": "markdown",
   "metadata": {
    "pycharm": {
     "name": "#%% md\n"
    }
   },
   "source": [
    "# Imports\n",
    "\n",
    "Only 3 libraries are needed for this project:\n",
    "* opencv (cv2) - For image processing\n",
    "* numpy - For its arrays\n",
    "* matplotlib - Plotting histograms"
   ]
  },
  {
   "cell_type": "code",
   "execution_count": 1,
   "metadata": {
    "collapsed": true
   },
   "outputs": [],
   "source": [
    "import cv2\n",
    "import numpy as np\n",
    "from matplotlib import pyplot as plt"
   ]
  },
  {
   "cell_type": "markdown",
   "metadata": {
    "pycharm": {
     "name": "#%% md\n"
    }
   },
   "source": [
    "# Exercise 1\n",
    "\n",
    "### Code Explanation\n",
    "\n",
    "For this exercise I load the image into the original_image variable. The next step is to take the\n",
    "width and height of the image, this can be done via  shape which returns the dimensions of a given tensor.\n",
    "The channels of the image are ignored.\n",
    "\n",
    "The image is then converted into a gray scale version of itself to reduce colour complexity for other metrics."
   ]
  },
  {
   "cell_type": "code",
   "execution_count": 2,
   "metadata": {
    "pycharm": {
     "name": "#%%\n"
    }
   },
   "outputs": [],
   "source": [
    "original_image = cv2.imread(\"cursed.jpg\")\n",
    "height, width, _ = original_image.shape\n",
    "gray = cv2.cvtColor(original_image, cv2.COLOR_BGR2GRAY)"
   ]
  },
  {
   "cell_type": "markdown",
   "metadata": {
    "pycharm": {
     "name": "#%% md\n"
    }
   },
   "source": [
    "### cursed.jpg\n",
    "\n",
    "The image I will be using for this lab is one of my failed attempts of creating a pie chart for one of my statistics units\n",
    "from last year. It features a sun like object in the centre with black lines coming out from the centre, it is coloured in\n",
    "full RGB while the background is gray.\n",
    "\n",
    "<img src=\"cursed.jpg\">"
   ]
  },
  {
   "cell_type": "markdown",
   "metadata": {
    "pycharm": {
     "name": "#%% md\n"
    }
   },
   "source": [
    "### Code Explanation\n",
    "\n",
    "Here I loop for the number of times an axis needs to be split, this can be changed by changing the h_split/w_split\n",
    "variables.\n",
    "\n",
    "In the loop:\n",
    "\n",
    "* x, y are the \"starting\" pixel coordinates for the new split.\n",
    "* h, w are the new height and width for the new splits.\n",
    "\n",
    "img2 is then initialised as a slice (Python list slicing) of original_image.\n",
    "``` Python\n",
    "[y:y+h, x:x+w]\n",
    "```\n",
    "Can be seen as:\n",
    "\n",
    "For the **width** of **img** start at **y till(:) y+h** and similarly, for the **height** of **img** start at\n",
    "**x till(:) x+w**\n",
    "\n",
    "The last 4 lines deal with saving the new split image as its own jpg file as well as building the returning dict.\n",
    "A count is kept to distinguish clearly between the splits.\n",
    "\n",
    "images is a dictionary that will be used to avoid creating/loading the quadrants multiple times."
   ]
  },
  {
   "cell_type": "code",
   "execution_count": 3,
   "metadata": {
    "pycharm": {
     "name": "#%%\n"
    }
   },
   "outputs": [],
   "source": [
    "def splitImage(input, w_split=2, h_split=2, detail=\"Unedited\"):\n",
    "    height, width = input.shape\n",
    "    count = 0\n",
    "    images = {}\n",
    "\n",
    "    for ih in range(h_split):\n",
    "        for iw in range(w_split):\n",
    "            x = width // w_split * iw\n",
    "            y = height // h_split * ih\n",
    "            h = height // h_split\n",
    "            w = width // w_split\n",
    "            img2 = input[y:y+h, x:x+w]\n",
    "\n",
    "            NAME = \"Outputs/\"+ detail + \"/Quadrant \" + str(count)\n",
    "            cv2.imwrite(NAME +  \".png\", img2, [cv2.IMWRITE_PNG_COMPRESSION, 0])\n",
    "            images[\"Quadrant \" + str(count)] = {'img': img2, 'dark':False}\n",
    "            count += 1\n",
    "\n",
    "    return images"
   ]
  },
  {
   "cell_type": "markdown",
   "metadata": {},
   "source": [
    "### Code Explanation\n",
    "\n",
    "I use the splitImage function. Due to the generated nature of the image being used, the quadrants end up being very\n",
    "similar to each other."
   ]
  },
  {
   "cell_type": "code",
   "execution_count": 4,
   "metadata": {
    "pycharm": {
     "name": "#%%\n"
    }
   },
   "outputs": [],
   "source": [
    "images = splitImage(gray)"
   ]
  },
  {
   "cell_type": "markdown",
   "metadata": {},
   "source": [
    "### Results\n",
    "\n",
    "Quadrants | .\n",
    "-|- \n",
    "<img src=\"./Outputs/Unedited/Quadrant 0.png\" width=\"240\" height=\"135\"> | <img src=\"./Outputs/Unedited/Quadrant 1.png\" width=\"240\" height=\"135\">\n",
    "<img src=\"./Outputs/Unedited/Quadrant 2.png\" width=\"240\" height=\"135\"> | <img src=\"./Outputs/Unedited/Quadrant 3.png\" width=\"240\" height=\"135\">\n",
    "\n"
   ]
  },
  {
   "cell_type": "markdown",
   "metadata": {},
   "source": [
    "# Exercise 2 - Thresholding\n",
    "\n",
    "### Code Explanation\n",
    "\n",
    "The isDark function returns whether a given image is dark or not. The darkness sensitivity can be changed by giving the\n",
    "alpha value, which by default is 0.5, i.e. 50%.\n",
    "\n",
    "The function is very simple in itself;\n",
    "* Each pixel is checked and if the channel values of the bgr values are < 256*alpha then it is considered a\n",
    "dark pixel.\n",
    "* This is done by utilizing numpy's < operator which returns a bool ndarray where the condition is either true or false.\n",
    "Then using numpy's count_nonzero I can get a count of all the instances where the pixel is dark.\n",
    "\n",
    "This method works much faster than looping through all the pixels in 2 for loops like so:\n",
    "\n",
    "```Python\n",
    "for x in range(h):\n",
    "    for y in range(w):\n",
    "        if np.less(image[x,y], T):\n",
    "            dark += 1\n",
    "```"
   ]
  },
  {
   "cell_type": "code",
   "execution_count": 5,
   "metadata": {
    "pycharm": {
     "name": "#%%\n"
    }
   },
   "outputs": [],
   "source": [
    "def isDark(image, alpha=0.5):\n",
    "    h, w = image.shape\n",
    "    T = np.array([255*alpha])\n",
    "    dark = np.count_nonzero(image < T)\n",
    "    return dark/(h*w) > 0.5"
   ]
  },
  {
   "cell_type": "markdown",
   "metadata": {
    "pycharm": {
     "name": "#%% md\n"
    }
   },
   "source": [
    "### Code Explanation\n",
    "\n",
    "Here I loop through each image generated previously and check whether it is dark or not."
   ]
  },
  {
   "cell_type": "code",
   "execution_count": 6,
   "metadata": {
    "pycharm": {
     "name": "#%%\n"
    }
   },
   "outputs": [],
   "source": [
    "for img_name in images:\n",
    "    images[img_name]['dark'] = isDark(images[img_name]['img'])"
   ]
  },
  {
   "cell_type": "markdown",
   "metadata": {
    "pycharm": {
     "name": "#%% md\n"
    }
   },
   "source": [
    "# Exercise 3 - Histogram\n",
    "\n",
    "### Code Explanation\n",
    "\n",
    "Each image has its histogram calculated using the opencv function. The parameters are passed like this:\n",
    "\n",
    "* images\n",
    "    * The image from the images dict passed to the generateHistograms function\n",
    "* channels\n",
    "    * 0, since the images are grayscale, if the images where coloured i would have to create a histogram for each colour (1,2,3)\n",
    "* mask\n",
    "    * no mask is given\n",
    "* histsize\n",
    "    * The maximum colour value is 255\n",
    "* ranges\n",
    "    * colour ranges from 0 to 255\n",
    "\n",
    "Each plot has its x and y axes labelled, as well as having a title which indicates whether the image it is based on is dark\n",
    "or not.\n",
    "\n",
    "Instead of displaying the histograms when generated they are saved as a png file and the function returns a list of their\n",
    "locations. Which can later be used to display the histograms.\n",
    "\n",
    "plt.clf is used to clear previously loaded/generated plots, especially useful when creating histograms for the video."
   ]
  },
  {
   "cell_type": "code",
   "execution_count": 7,
   "metadata": {
    "pycharm": {
     "name": "#%%\n"
    }
   },
   "outputs": [],
   "source": [
    "%%capture\n",
    "def generateHistograms(images, detail=\"Unedited\"):\n",
    "    img_names = []\n",
    "    for img_name in images:\n",
    "        hist = cv2.calcHist([images[img_name]['img']], [0], None, [255], [0, 255])\n",
    "        plt.ylabel('Pixels')\n",
    "        plt.xlabel('Intensity')\n",
    "        plt.title(img_name + ', is Dark?: ' + str(images[img_name]['dark']))\n",
    "        plt.plot(hist)\n",
    "        plt.xlim([0, 256])\n",
    "        plt.savefig('Histograms/' + detail + '/'+ img_name + ' histogram.png')\n",
    "        img_names.append('Histograms/' + detail + '/'+ img_name + ' histogram.png')\n",
    "        plt.clf()\n",
    "    return img_names\n",
    "generateHistograms(images)"
   ]
  },
  {
   "cell_type": "markdown",
   "metadata": {
    "pycharm": {
     "name": "#%% md\n"
    }
   },
   "source": [
    "### Result Discussion\n",
    "Since the main feature of cursed.jpg is split between the 4 quadrants the majority of these quadrants is now made of what\n",
    "was once the background. Due to the auto-generated nature of the image, each quadrant's colour histogram displays a spike\n",
    "for pixels with (127) as their value. I.e cursed.jpg in grayscale is a very medium level gray.\n",
    "\n",
    "Histograms | .\n",
    "-|-\n",
    "<img src=\"./Histograms/Unedited/Quadrant 0 histogram.png\"> | <img src=\"./Histograms/Unedited/Quadrant 1 histogram.png\" >\n",
    "<img src=\"./Histograms/Unedited/Quadrant 2 histogram.png\"> | <img src=\"./Histograms/Unedited/Quadrant 3 histogram.png\">"
   ]
  },
  {
   "cell_type": "markdown",
   "metadata": {
    "pycharm": {
     "name": "#%% md\n"
    }
   },
   "source": [
    "# Exercise 4 - Power Transform\n",
    "\n",
    "### Code Explanation\n",
    "\n",
    "First I copy image to _cpy, then I apply the power transform using numpy given gamma. The larger gamma the darker the\n",
    "image will become and vice versa. 1 being neutral."
   ]
  },
  {
   "cell_type": "code",
   "execution_count": 8,
   "metadata": {
    "pycharm": {
     "name": "#%%\n"
    }
   },
   "outputs": [],
   "source": [
    "def powerTransform(image, gamma=2):\n",
    "    _cpy = image.copy()\n",
    "    _cpy = np.array(255*(_cpy/255)**gamma,dtype='uint8')\n",
    "    return _cpy"
   ]
  },
  {
   "cell_type": "markdown",
   "metadata": {},
   "source": [
    "### Code Explanation\n",
    "\n",
    "Here I loop through each image generated previously and apply the power transform, as well as more generate histograms."
   ]
  },
  {
   "cell_type": "code",
   "execution_count": 9,
   "metadata": {
    "pycharm": {
     "name": "#%%\n"
    }
   },
   "outputs": [],
   "source": [
    "%%capture\n",
    "transformed_images = {}\n",
    "count = 0\n",
    "for img_name in images:\n",
    "    transformed = powerTransform(images[img_name]['img'])\n",
    "    name = \"Outputs/Transformed/Quadrant \" + str(count)\n",
    "    cv2.imwrite(name +  \".png\", transformed, [cv2.IMWRITE_PNG_COMPRESSION, 0])\n",
    "    transformed_images[img_name] = {'img':  transformed,\n",
    "                                    'dark': isDark(transformed)}\n",
    "    count += 1\n",
    "\n",
    "generateHistograms(transformed_images, \"Transformed\")"
   ]
  },
  {
   "cell_type": "markdown",
   "metadata": {
    "pycharm": {
     "name": "#%% md\n"
    }
   },
   "source": [
    "### Result Discussion\n",
    "\n",
    "The images are applied with the base gamma of 2 and are visibly darker, the histograms also show this shift to the left in pixel values. The smaller value a pixel has the darker its gray is.\n",
    "\n",
    "Quadrants | .\n",
    "-|- \n",
    "<img src=\"./Outputs/Transformed/Quadrant 0.png\" width=\"240\" height=\"135\"> | <img src=\"./Outputs/Transformed/Quadrant 1.png\" width=\"240\" height=\"135\">\n",
    "<img src=\"./Outputs/Transformed/Quadrant 2.png\" width=\"240\" height=\"135\"> | <img src=\"./Outputs/Transformed/Quadrant 3.png\" width=\"240\" height=\"135\">\n",
    "\n",
    "Histograms | .\n",
    "-|-\n",
    "<img src=\"./Histograms/Transformed/Quadrant 0 histogram.png\"> | <img src=\"./Histograms/Transformed/Quadrant 1 histogram.png\" >\n",
    "<img src=\"./Histograms/Transformed/Quadrant 2 histogram.png\"> | <img src=\"./Histograms/Transformed/Quadrant 3 histogram.png\">"
   ]
  },
  {
   "cell_type": "markdown",
   "metadata": {
    "pycharm": {
     "name": "#%% md\n"
    }
   },
   "source": [
    "# Exercise 5 - Bit Plane Slicing\n",
    "\n",
    "### Code Explanation\n",
    "\n",
    "With np.full I create a copy of the inputted image and fills it with 2^bit. This creates the bit plane of given image"
   ]
  },
  {
   "cell_type": "code",
   "execution_count": 10,
   "metadata": {
    "pycharm": {
     "name": "#%%\n"
    }
   },
   "outputs": [],
   "source": [
    "def Slice(image, bit):\n",
    "    plane = np.full((image.shape[0], image.shape[1]), 2 ** bit, np.uint8)\n",
    "    res = cv2.bitwise_and(plane, image)\n",
    "    x = res * 255\n",
    "    return x\n"
   ]
  },
  {
   "cell_type": "markdown",
   "metadata": {},
   "source": [
    "### Code Explanation\n",
    "\n",
    "Here I loop through each image generated previously and apply the bit slice twice, for 2 and 7. When this process is\n",
    "finished histograms are generated for comparison."
   ]
  },
  {
   "cell_type": "code",
   "execution_count": 11,
   "metadata": {
    "pycharm": {
     "name": "#%%\n"
    }
   },
   "outputs": [],
   "source": [
    "%%capture\n",
    "Sliced_images = {}\n",
    "slices = [2,7]\n",
    "\n",
    "for slice in slices:\n",
    "    count = 0\n",
    "    for img_name in images:\n",
    "            sliced = Slice(images[img_name]['img'], slice)\n",
    "            name = \"Outputs/Sliced/Sliced Quadrant \" + str(slice) + str(count)\n",
    "            cv2.imwrite(name +  \".png\", sliced, [cv2.IMWRITE_PNG_COMPRESSION, 0])\n",
    "            Sliced_images[name[16:]] = {'img':  sliced,\n",
    "                                             'dark': isDark(sliced)}\n",
    "            count += 1\n",
    "generateHistograms(Sliced_images, \"Sliced\")"
   ]
  },
  {
   "cell_type": "markdown",
   "metadata": {},
   "source": [
    "### Result Discussion\n",
    "\n",
    "For this exercise I sliced at the 3rd and 8th bit, the bit count starts at 0. Both have different results. The lower bit slicing features the more denseley categorised areas of the pie chart while the higher bit slice features what would have been the labels as well as the less dense areas of the pie chart.\n",
    "\n",
    "\n",
    "The way both are featuring is different since for the lower slice I am looking at the black parts whereas for the higher bit slice I am looking at the white parts.\n",
    "\n",
    "Unfortunately for the higher bit slice some noise is being generated even though I tried to save in lossless format.\n",
    "\n",
    "Quadrants | Spliced at 2\n",
    "-|- \n",
    "<img src=\"./Outputs/Sliced/Sliced Quadrant 20.png\" width=\"240\" height=\"135\"> | <img src=\"./Outputs/Sliced/Sliced Quadrant 21.png\" width=\"240\" height=\"135\">\n",
    "<img src=\"./Outputs/Sliced/Sliced Quadrant 22.png\" width=\"240\" height=\"135\"> | <img src=\"./Outputs/Sliced/Sliced Quadrant 23.png\" width=\"240\" height=\"135\">\n",
    "\n",
    "Histograms | Spliced at 2\n",
    "-|-\n",
    "<img src=\"./Histograms/Sliced/Sliced Quadrant 20 histogram.png\"> | <img src=\"./Histograms/Sliced/Sliced Quadrant 21 histogram.png\" >\n",
    "<img src=\"./Histograms/Sliced/Sliced Quadrant 22 histogram.png\"> | <img src=\"./Histograms/Sliced/Sliced Quadrant 23 histogram.png\">\n",
    "\n",
    "Quadrants | Spliced at 7\n",
    "-|- \n",
    "<img src=\"./Outputs/Sliced/Sliced Quadrant 70.png\" width=\"240\" height=\"135\"> | <img src=\"./Outputs/Sliced/Sliced Quadrant 71.png\" width=\"240\" height=\"135\">\n",
    "<img src=\"./Outputs/Sliced/Sliced Quadrant 72.png\" width=\"240\" height=\"135\"> | <img src=\"./Outputs/Sliced/Sliced Quadrant 73.png\" width=\"240\" height=\"135\">\n",
    "\n",
    "\n",
    "While hard to notice the graph leans at 0\n",
    "\n",
    "Histograms | Spliced at 7\n",
    "-|-\n",
    "<img src=\"./Histograms/Sliced/Sliced Quadrant 70 histogram.png\"> | <img src=\"./Histograms/Sliced/Sliced Quadrant 71 histogram.png\" >\n",
    "<img src=\"./Histograms/Sliced/Sliced Quadrant 72 histogram.png\"> | <img src=\"./Histograms/Sliced/Sliced Quadrant 73 histogram.png\">\n"
   ]
  },
  {
   "cell_type": "markdown",
   "metadata": {},
   "source": [
    "# Exercise 6 - Application to Video\n",
    "\n",
    "### League.mp4\n",
    "\n",
    "The video I will be using for this exercise is the only mp4 video I found on my pc, and since I don't have a webcam I'm\n",
    "stuck with it. It features some gameplay footage from the game League of Legends. The unprocessed version is 1920x1080 (FHD)\n",
    "with full RGB. When turned to grayscale it features a more varied range of grays than cursed.jpg.\n",
    "\n",
    "<img src=\"Screenshot.jpg\">\n",
    "\n",
    "\n",
    "### Code Explanation\n",
    "\n",
    "In this first part I load the video using cv2.VideoCapture.\n",
    "\n",
    "I get the fps of the video and divided it by 4 so that I only process 4 frames each second. Any more and the loop would\n",
    "just lag.\n",
    "\n",
    "Using the **read()** function I get ret and the frame. If the video stops, ret is false. This will make it easier for me\n",
    "to stop the process and program. Unfortunately I was not able to create an interrupt that stops the process mid video."
   ]
  },
  {
   "cell_type": "code",
   "execution_count": 12,
   "metadata": {
    "pycharm": {
     "name": "#%%\n"
    }
   },
   "outputs": [
    {
     "name": "stdout",
     "output_type": "stream",
     "text": [
      "35.154063403335364\n"
     ]
    }
   ],
   "source": [
    "vidFile = cv2.VideoCapture('League.mp4')\n",
    "fps = vidFile.get(cv2.CAP_PROP_FPS)\n",
    "print(fps)\n",
    "ret, frame = vidFile.read()\n",
    "count = 0"
   ]
  },
  {
   "cell_type": "markdown",
   "metadata": {
    "pycharm": {
     "name": "#%% md\n"
    }
   },
   "source": [
    "A count is incremented each frame, if this count reaches 8 I process the frame.\n",
    "\n",
    "Similar steps to previous exercises are done here, namely:\n",
    "* Converting to grayscale\n",
    "* Splitting the image\n",
    "* Checking if the quadrants are dark\n",
    "* Applying the power transform if the quadrant is dark\n",
    "* Generating histograms\n",
    "\n",
    "The differences here are:\n",
    "* That I resize the frame to 800x450 (retaining 16:9)\n",
    "* Merging the quadrants and generated histograms into 2 windows using numpy concatenations\n",
    "    * Also the return from **generatedHistograms()** is used to load the images back into memory\n",
    "\n",
    "**cv2.waitKey(int(1/fps*1000))** is used as a small wait so that each frame can be loaded."
   ]
  },
  {
   "cell_type": "code",
   "execution_count": 13,
   "metadata": {
    "pycharm": {
     "name": "#%%\n"
    }
   },
   "outputs": [
    {
     "data": {
      "text/plain": [
       "<Figure size 432x288 with 0 Axes>"
      ]
     },
     "metadata": {},
     "output_type": "display_data"
    }
   ],
   "source": [
    "while ret:\n",
    "    if count % 8 == 0:\n",
    "        frame = cv2.resize(frame, (800, 450))\n",
    "        grayFrame = cv2.cvtColor(frame, cv2.COLOR_BGR2GRAY)\n",
    "        quadrants = splitImage(grayFrame,w_split=2,h_split=2,detail=\"Video\")\n",
    "\n",
    "        for img_name in quadrants:\n",
    "            quadrants[img_name]['dark'] = isDark(quadrants[img_name]['img'], alpha=0.25)\n",
    "            if quadrants[img_name]['dark']:\n",
    "                quadrants[img_name]['img'] = powerTransform(quadrants[img_name]['img'], gamma=0.3)\n",
    "\n",
    "        histogram_names = generateHistograms(quadrants, \"Video\")\n",
    "        histograms = []\n",
    "        for histogram in histogram_names:\n",
    "            histograms.append(cv2.imread(histogram))\n",
    "\n",
    "        histogramStitchedH1 = np.concatenate((histograms[0], histograms[1]),axis=1)\n",
    "        histogramStitchedH2 = np.concatenate((histograms[2], histograms[3]),axis=1)\n",
    "        histogramStitchedF = np.concatenate((histogramStitchedH1, histogramStitchedH2),axis=0)\n",
    "        cv2.imshow(\"Histograms\", histogramStitchedF)\n",
    "\n",
    "        frameStitchedH1 = np.concatenate((quadrants['Quadrant 0']['img'],quadrants['Quadrant 1']['img']),axis=1)\n",
    "        frameStitchedH2 = np.concatenate((quadrants['Quadrant 2']['img'],quadrants['Quadrant 3']['img']),axis=1)\n",
    "        frameStitchedF = np.concatenate((frameStitchedH1, frameStitchedH2),axis=0)\n",
    "        cv2.imshow(\"Processed Video\", frameStitchedF)\n",
    "\n",
    "        count = 0\n",
    "\n",
    "    cv2.waitKey(int(1/fps*1000))\n",
    "    count += 1\n",
    "    ret, frame = vidFile.read()\n",
    "vidFile.release()\n",
    "cv2.destroyAllWindows()"
   ]
  }
 ],
 "metadata": {
  "kernelspec": {
   "display_name": "Python 3",
   "language": "python",
   "name": "python3"
  },
  "language_info": {
   "codemirror_mode": {
    "name": "ipython",
    "version": 3
   },
   "file_extension": ".py",
   "mimetype": "text/x-python",
   "name": "python",
   "nbconvert_exporter": "python",
   "pygments_lexer": "ipython3",
   "version": "3.8.8"
  }
 },
 "nbformat": 4,
 "nbformat_minor": 1
}